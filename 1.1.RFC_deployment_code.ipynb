{
 "cells": [
  {
   "cell_type": "code",
   "execution_count": 1,
   "id": "f5055494-03df-4300-9226-f677a3665639",
   "metadata": {},
   "outputs": [
    {
     "name": "stdin",
     "output_type": "stream",
     "text": [
      "Enter your age: 49\n",
      "Enter your gender(Male/Female): Female\n",
      "Enter your salary: 36000\n"
     ]
    }
   ],
   "source": [
    "Age=float(input(\"Enter your age:\"))\n",
    "Gender=input(\"Enter your gender(Male/Female):\")\n",
    "Salary=int(input(\"Enter your salary:\"))"
   ]
  },
  {
   "cell_type": "code",
   "execution_count": 3,
   "id": "fb00c506-b019-41d7-b4f1-8939c98bb28b",
   "metadata": {},
   "outputs": [],
   "source": [
    "import pandas as pd\n",
    "user_input=pd.DataFrame([\n",
    "    {'Age':Age,\n",
    "     'Gender':Gender,\n",
    "     'EstimatedSalary':Salary}])"
   ]
  },
  {
   "cell_type": "code",
   "execution_count": 4,
   "id": "1533e3a2-e534-4b0d-85f8-08fccfc432f1",
   "metadata": {},
   "outputs": [],
   "source": [
    "import joblib\n",
    "loaded_model=joblib.load(\"RFC_deployment.pkl\")"
   ]
  },
  {
   "cell_type": "code",
   "execution_count": 5,
   "id": "12e26acd-e696-4697-92cc-bf5192748946",
   "metadata": {},
   "outputs": [
    {
     "name": "stdout",
     "output_type": "stream",
     "text": [
      "[1]\n"
     ]
    }
   ],
   "source": [
    "result=loaded_model.predict(user_input)\n",
    "print(result)"
   ]
  },
  {
   "cell_type": "code",
   "execution_count": null,
   "id": "a02a9066-c83d-48ab-b94e-a93ea5dbf802",
   "metadata": {},
   "outputs": [],
   "source": []
  }
 ],
 "metadata": {
  "kernelspec": {
   "display_name": "Python [conda env:base] *",
   "language": "python",
   "name": "conda-base-py"
  },
  "language_info": {
   "codemirror_mode": {
    "name": "ipython",
    "version": 3
   },
   "file_extension": ".py",
   "mimetype": "text/x-python",
   "name": "python",
   "nbconvert_exporter": "python",
   "pygments_lexer": "ipython3",
   "version": "3.12.7"
  }
 },
 "nbformat": 4,
 "nbformat_minor": 5
}
